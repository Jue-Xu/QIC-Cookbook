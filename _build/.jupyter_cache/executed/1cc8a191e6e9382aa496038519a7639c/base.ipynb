{
 "cells": [
  {
   "cell_type": "code",
   "execution_count": null,
   "id": "difficult-method",
   "metadata": {
    "ExecuteTime": {
     "end_time": "2021-02-15T03:41:01.388076Z",
     "start_time": "2021-02-15T03:41:01.381065Z"
    }
   },
   "outputs": [],
   "source": []
  },
  {
   "cell_type": "code",
   "execution_count": 1,
   "id": "supreme-holiday",
   "metadata": {},
   "outputs": [],
   "source": [
    "## solve A(4,3)*B(3,2)=C(4,2)\n",
    "import numpy as np\n",
    "from numpy.linalg import inv, matrix_rank, det\n",
    "from numpy import dot, transpose\n"
   ]
  },
  {
   "cell_type": "code",
   "execution_count": 2,
   "id": "4b3922b9",
   "metadata": {},
   "outputs": [
    {
     "name": "stdout",
     "output_type": "stream",
     "text": [
      "[[10. 17. 12.]\n",
      " [17. 29. 21.]\n",
      " [12. 21. 18.]]\n",
      "1.6710489201527266e-14\n",
      "rank: 2\n",
      "[[ 4.84725486e+15 -3.23150324e+15  5.38583873e+14]\n",
      " [-3.23150324e+15  2.15433549e+15 -3.59055916e+14]\n",
      " [ 5.38583873e+14 -3.59055916e+14  5.98426526e+13]]\n"
     ]
    },
    {
     "data": {
      "text/plain": [
       "False"
      ]
     },
     "execution_count": 2,
     "metadata": {},
     "output_type": "execute_result"
    }
   ],
   "source": [
    "a = np.array([[1., 2., 3.], [3., 5., 3.]])\n",
    "aT_a = dot(transpose(a),a)\n",
    "print(aT_a)\n",
    "print(det(aT_a))\n",
    "print('rank:',matrix_rank(aT_a))\n",
    "ainv = inv(aT_a)\n",
    "print(ainv)\n",
    "np.allclose(dot(ainv, aT_a), np.eye(3))"
   ]
  },
  {
   "cell_type": "code",
   "execution_count": null,
   "id": "f78b9e90",
   "metadata": {},
   "outputs": [],
   "source": []
  }
 ],
 "metadata": {
  "kernelspec": {
   "display_name": "Python 3.8.8 ('base')",
   "language": "python",
   "name": "python3"
  },
  "language_info": {
   "codemirror_mode": {
    "name": "ipython",
    "version": 3
   },
   "file_extension": ".py",
   "mimetype": "text/x-python",
   "name": "python",
   "nbconvert_exporter": "python",
   "pygments_lexer": "ipython3",
   "version": "3.10.10"
  },
  "vscode": {
   "interpreter": {
    "hash": "4e8ef2f9fcac0817bca9a7ca376f64f20b4df5ea3bf7af756a50bda7d3557ea6"
   }
  }
 },
 "nbformat": 4,
 "nbformat_minor": 5
}