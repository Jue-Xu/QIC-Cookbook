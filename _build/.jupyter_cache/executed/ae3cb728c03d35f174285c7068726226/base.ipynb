{
 "cells": [
  {
   "cell_type": "code",
   "execution_count": 1,
   "id": "informative-rider",
   "metadata": {
    "ExecuteTime": {
     "end_time": "2021-02-05T00:39:49.051783Z",
     "start_time": "2021-02-05T00:39:49.041204Z"
    }
   },
   "outputs": [
    {
     "name": "stdout",
     "output_type": "stream",
     "text": [
      "[[0.        -0.5j        0.70710678+0.5j       ]\n",
      " [0.5       +0.70710678j 0.5       +0.j        ]]\n",
      "[[-0.5       +0.j   0.70710678-0.5j]\n",
      " [ 0.70710678+0.5j  0.5       +0.j ]]\n",
      "[[-0.5       +0.j   0.70710678-0.5j]\n",
      " [ 0.70710678+0.5j  0.5       +0.j ]]\n",
      "[[-0.5       +0.j   0.70710678-0.5j]\n",
      " [ 0.70710678+0.5j  0.5       +0.j ]]\n",
      "[[ 7.07106781e-01+0.j          8.86511593e-17-0.70710678j]\n",
      " [ 1.11022302e-16+0.70710678j -7.07106781e-01+0.j        ]]\n",
      "[[ 0.5       +0.j   0.70710678+0.5j]\n",
      " [ 0.70710678-0.5j -0.5       +0.j ]]\n"
     ]
    }
   ],
   "source": [
    "import numpy as np\n",
    "from math import sqrt\n",
    "\n",
    "U = np.matrix([[1/sqrt(2)+1j/2, -1j/2], \n",
    "              [1/2, 1/2+1j/sqrt(2)]])\n",
    "X = np.matrix([[0,1],[1,0]])\n",
    "Y = np.matrix([[0,-1j],[1j,0]])\n",
    "Z = np.matrix([[1,0],[0,-1]])\n",
    "# U.getH()\n",
    "np.matmul(U,X)\n",
    "print(np.matmul(U,X,U.H))\n",
    "print(np.matmul(np.dot(U,X),U.getH()))\n",
    "print(np.matmul(np.matmul(U,X),U.H))\n",
    "print(np.dot(np.dot(U,X),U.getH()))\n",
    "print(np.dot(np.dot(U,Y),U.getH()))\n",
    "print(np.dot(np.dot(U,Z),U.getH()))"
   ]
  },
  {
   "cell_type": "code",
   "execution_count": 2,
   "id": "white-victorian",
   "metadata": {
    "ExecuteTime": {
     "end_time": "2021-02-05T02:06:33.806828Z",
     "start_time": "2021-02-05T02:06:33.800926Z"
    }
   },
   "outputs": [
    {
     "name": "stdout",
     "output_type": "stream",
     "text": [
      "[[1.+0.j 0.+0.j]\n",
      " [0.+0.j 1.+0.j]]\n"
     ]
    }
   ],
   "source": [
    "print(np.matmul(U,U.getH()))"
   ]
  },
  {
   "cell_type": "code",
   "execution_count": 3,
   "id": "yellow-performer",
   "metadata": {
    "ExecuteTime": {
     "end_time": "2021-02-05T02:07:16.249830Z",
     "start_time": "2021-02-05T02:07:16.244422Z"
    }
   },
   "outputs": [
    {
     "name": "stdout",
     "output_type": "stream",
     "text": [
      "[[1.+0.j 0.+0.j]\n",
      " [0.+0.j 1.+0.j]]\n"
     ]
    }
   ],
   "source": [
    "print(np.dot(U,U.getH()))"
   ]
  },
  {
   "cell_type": "code",
   "execution_count": 4,
   "id": "difficult-method",
   "metadata": {
    "ExecuteTime": {
     "end_time": "2021-02-15T03:41:01.388076Z",
     "start_time": "2021-02-15T03:41:01.381065Z"
    }
   },
   "outputs": [
    {
     "data": {
      "text/plain": [
       "array([[6.123234e-17+0.70710678j, 0.000000e+00+0.70710678j],\n",
       "       [0.000000e+00+0.70710678j, 6.123234e-17-0.70710678j]])"
      ]
     },
     "execution_count": 4,
     "metadata": {},
     "output_type": "execute_result"
    }
   ],
   "source": [
    "from scipy.linalg import expm, sinm, cosm\n",
    "import numpy as np\n",
    "# hadmard gate\n",
    "h = np.array([[1.0, 1.0], [1.0, -1.0]])\n",
    "expm(1j*h/np.sqrt(2)*np.pi/2)"
   ]
  },
  {
   "cell_type": "code",
   "execution_count": 5,
   "id": "supreme-holiday",
   "metadata": {},
   "outputs": [
    {
     "name": "stdout",
     "output_type": "stream",
     "text": [
      "3\n",
      "A= [[-0.58467778  0.82158951  0.10574808]\n",
      " [-0.50681406  0.4223986   0.42152069]\n",
      " [-0.04623778  0.53622639 -0.99689905]\n",
      " [ 0.44557443  0.77302169 -0.43747922]]\n",
      "C= [[-0.7486619  -0.82060587]\n",
      " [-0.72422963  0.28541297]\n",
      " [-1.23958652  0.95226842]\n",
      " [ 0.66498058 -0.7678366 ]]\n",
      "AT_A= [[ 0.7993831  -0.3747979  -0.42429632]\n",
      " [-0.3747979   1.73853117 -0.60781324]\n",
      " [-0.42429632 -0.60781324  1.37405814]]\n",
      "rank of AT_A: 3\n",
      "[[ 1.00000000e+00  1.60143113e-16 -2.82515649e-16]\n",
      " [ 7.02571532e-17  1.00000000e+00 -1.73973845e-16]\n",
      " [ 1.17481372e-16  7.45963956e-18  1.00000000e+00]]\n",
      "[[ 0.62772876  0.46182522  0.13355035  0.05066688]\n",
      " [ 0.46182522  0.42707759 -0.16567737 -0.06285536]\n",
      " [ 0.13355035 -0.16567737  0.95208952 -0.01817648]\n",
      " [ 0.05066688 -0.06285536 -0.01817648  0.99310413]]\n",
      "B= [[ 2.24272868 -1.26220417]\n",
      " [ 0.29783903 -1.09075364]\n",
      " [ 1.232111   -1.29426549]]\n",
      "A*B= [[-0.93627883 -0.2950351 ]\n",
      " [-0.49147935 -0.36658968]\n",
      " [-1.17227993  0.76372268]\n",
      " [ 0.69051563 -0.83936786]]\n"
     ]
    }
   ],
   "source": [
    "## solve A(4,3)*B(3,2)=C(4,2)\n",
    "import numpy as np\n",
    "from numpy.linalg import inv, matrix_rank, det\n",
    "from numpy import dot, transpose\n",
    "# np.set_printoptions(precision=5)\n",
    "\n",
    "A = np.random.randn(4, 3)\n",
    "C = np.random.randn(4, 2)\n",
    "print(matrix_rank(A))\n",
    "print('A=',A)\n",
    "print('C=',C)\n",
    "AT_A = dot(transpose(A),A)\n",
    "print('AT_A=',AT_A)\n",
    "print('rank of AT_A:',matrix_rank(AT_A))\n",
    "A_left_inverse = dot(inv( AT_A ), transpose(A))\n",
    "print(dot(inv( AT_A ), AT_A ))\n",
    "print(dot(A,A_left_inverse))\n",
    "B = dot(A_left_inverse, C)\n",
    "print('B=',B)\n",
    "# print(dot(A,dot(A_left_inverse, C)))\n",
    "print('A*B=',dot(A,B))"
   ]
  },
  {
   "cell_type": "code",
   "execution_count": 6,
   "id": "4b3922b9",
   "metadata": {},
   "outputs": [
    {
     "name": "stdout",
     "output_type": "stream",
     "text": [
      "[[10. 17. 12.]\n",
      " [17. 29. 21.]\n",
      " [12. 21. 18.]]\n",
      "1.6710489201527266e-14\n",
      "rank: 2\n",
      "[[ 4.84725486e+15 -3.23150324e+15  5.38583873e+14]\n",
      " [-3.23150324e+15  2.15433549e+15 -3.59055916e+14]\n",
      " [ 5.38583873e+14 -3.59055916e+14  5.98426526e+13]]\n"
     ]
    },
    {
     "data": {
      "text/plain": [
       "False"
      ]
     },
     "execution_count": 6,
     "metadata": {},
     "output_type": "execute_result"
    }
   ],
   "source": [
    "a = np.array([[1., 2., 3.], [3., 5., 3.]])\n",
    "aT_a = dot(transpose(a),a)\n",
    "print(aT_a)\n",
    "print(det(aT_a))\n",
    "print('rank:',matrix_rank(aT_a))\n",
    "ainv = inv(aT_a)\n",
    "print(ainv)\n",
    "np.allclose(dot(ainv, aT_a), np.eye(3))"
   ]
  },
  {
   "cell_type": "code",
   "execution_count": null,
   "id": "f78b9e90",
   "metadata": {},
   "outputs": [],
   "source": []
  }
 ],
 "metadata": {
  "kernelspec": {
   "display_name": "Python 3.8.8 ('base')",
   "language": "python",
   "name": "python3"
  },
  "language_info": {
   "codemirror_mode": {
    "name": "ipython",
    "version": 3
   },
   "file_extension": ".py",
   "mimetype": "text/x-python",
   "name": "python",
   "nbconvert_exporter": "python",
   "pygments_lexer": "ipython3",
   "version": "3.10.10"
  },
  "vscode": {
   "interpreter": {
    "hash": "4e8ef2f9fcac0817bca9a7ca376f64f20b4df5ea3bf7af756a50bda7d3557ea6"
   }
  }
 },
 "nbformat": 4,
 "nbformat_minor": 5
}