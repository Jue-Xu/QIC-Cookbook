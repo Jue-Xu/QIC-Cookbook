{
 "cells": [
  {
   "attachments": {},
   "cell_type": "markdown",
   "id": "947a934a",
   "metadata": {},
   "source": [
    "# Algorithms"
   ]
  },
  {
   "attachments": {},
   "cell_type": "markdown",
   "id": "1321319c",
   "metadata": {},
   "source": [
    "## Ford–Fulkerson\n",
    "\n",
    "```{prf:algorithm} Ford–Fulkerson\n",
    ":label: my-algorithm\n",
    "\n",
    "**Inputs** Given a Network $G=(V,E)$ with flow capacity $c$, a source node $s$, and a sink node $t$\n",
    "\n",
    "**Output** Compute a flow $f$ from $s$ to $t$ of maximum value\n",
    "\n",
    "1. $f(u, v) \\leftarrow 0$ for all edges $(u,v)$\n",
    "2. While there is a path $p$ from $s$ to $t$ in $G_{f}$ such that $c_{f}(u,v)>0$\n",
    "\tfor all edges $(u,v) \\in p$:\n",
    "\n",
    "\t1. Find $c_{f}(p)= \\min \\{c_{f}(u,v):(u,v)\\in p\\}$\n",
    "\t2. For each edge $(u,v) \\in p$\n",
    "\n",
    "\t\t1. $f(u,v) \\leftarrow f(u,v) + c_{f}(p)$ *(Send flow along the path)*\n",
    "\t\t2. $f(u,v) \\leftarrow f(u,v) - c_{f}(p)$ *(The flow might be \"returned\" later)*\n",
    "```"
   ]
  },
  {
   "attachments": {},
   "cell_type": "markdown",
   "id": "268a3c01",
   "metadata": {},
   "source": [
    "## Proof"
   ]
  },
  {
   "cell_type": "markdown",
   "id": "c5ffa9ad",
   "metadata": {},
   "source": []
  },
  {
   "cell_type": "code",
   "execution_count": null,
   "id": "difficult-method",
   "metadata": {
    "ExecuteTime": {
     "end_time": "2021-02-15T03:41:01.388076Z",
     "start_time": "2021-02-15T03:41:01.381065Z"
    }
   },
   "outputs": [],
   "source": []
  },
  {
   "attachments": {},
   "cell_type": "markdown",
   "id": "13d0ab06",
   "metadata": {},
   "source": [
    "## Efficiency"
   ]
  },
  {
   "cell_type": "markdown",
   "id": "2a12c609",
   "metadata": {},
   "source": []
  },
  {
   "attachments": {},
   "cell_type": "markdown",
   "id": "f42cc303",
   "metadata": {},
   "source": [
    "{cite:p}`holdgraf_encoding_2017`\n",
    "\n",
    "<!-- https://jupyterbook.org/en/stable/content/citations.html -->"
   ]
  },
  {
   "attachments": {},
   "cell_type": "markdown",
   "id": "dc2eed7f",
   "metadata": {},
   "source": [
    "<!-- ```{bibliography}\n",
    ":style: unsrt\n",
    "``` -->"
   ]
  },
  {
   "cell_type": "markdown",
   "id": "e0936168",
   "metadata": {},
   "source": []
  }
 ],
 "metadata": {
  "kernelspec": {
   "display_name": "Python 3.8.8 ('base')",
   "language": "python",
   "name": "python3"
  },
  "language_info": {
   "codemirror_mode": {
    "name": "ipython",
    "version": 3
   },
   "file_extension": ".py",
   "mimetype": "text/x-python",
   "name": "python",
   "nbconvert_exporter": "python",
   "pygments_lexer": "ipython3",
   "version": "3.8.16"
  },
  "vscode": {
   "interpreter": {
    "hash": "4e8ef2f9fcac0817bca9a7ca376f64f20b4df5ea3bf7af756a50bda7d3557ea6"
   }
  }
 },
 "nbformat": 4,
 "nbformat_minor": 5
}