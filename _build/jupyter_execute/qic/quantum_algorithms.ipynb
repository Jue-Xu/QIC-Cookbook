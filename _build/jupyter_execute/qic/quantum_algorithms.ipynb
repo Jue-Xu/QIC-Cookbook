{
 "cells": [
  {
   "attachments": {},
   "cell_type": "markdown",
   "id": "9a4f165c",
   "metadata": {},
   "source": [
    "# Quantum Algorithms"
   ]
  },
  {
   "attachments": {},
   "cell_type": "markdown",
   "id": "4489b818",
   "metadata": {},
   "source": [
    "> Here is a cool quotation."
   ]
  },
  {
   "attachments": {},
   "cell_type": "markdown",
   "id": "5aa34097",
   "metadata": {},
   "source": [
    "{cite}`itaev2002classical`"
   ]
  },
  {
   "attachments": {},
   "cell_type": "markdown",
   "id": "8abac791",
   "metadata": {},
   "source": [
    "```{table} My table title\n",
    ":name: quantum_algorithms\n",
    "\n",
    "| header 1 | header 2 |\n",
    "|---|---|\n",
    "| 3 | 4 |\n",
    "```"
   ]
  },
  {
   "attachments": {},
   "cell_type": "markdown",
   "id": "04e427ad",
   "metadata": {},
   "source": []
  }
 ],
 "metadata": {
  "kernelspec": {
   "display_name": "Python 3 (ipykernel)",
   "language": "python",
   "name": "python3"
  },
  "language_info": {
   "codemirror_mode": {
    "name": "ipython",
    "version": 3
   },
   "file_extension": ".py",
   "mimetype": "text/x-python",
   "name": "python",
   "nbconvert_exporter": "python",
   "pygments_lexer": "ipython3",
   "version": "3.10.11"
  }
 },
 "nbformat": 4,
 "nbformat_minor": 5
}