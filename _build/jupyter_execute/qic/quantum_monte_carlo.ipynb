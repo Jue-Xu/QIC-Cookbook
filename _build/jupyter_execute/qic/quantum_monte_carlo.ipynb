{
 "cells": [
  {
   "attachments": {},
   "cell_type": "markdown",
   "id": "9a4f165c",
   "metadata": {},
   "source": [
    "# Quantum Monte Carlo (QMC)"
   ]
  },
  {
   "attachments": {},
   "cell_type": "markdown",
   "id": "04e427ad",
   "metadata": {},
   "source": [
    "## World line QMC"
   ]
  },
  {
   "attachments": {},
   "cell_type": "markdown",
   "id": "dd0f79e6",
   "metadata": {},
   "source": [
    "## Real-time QMC"
   ]
  },
  {
   "attachments": {},
   "cell_type": "markdown",
   "id": "8c6e7b08",
   "metadata": {},
   "source": [
    "## Auxillary-field QMC"
   ]
  },
  {
   "attachments": {},
   "cell_type": "markdown",
   "id": "3251018e",
   "metadata": {},
   "source": [
    "## Green-function QMC"
   ]
  },
  {
   "attachments": {},
   "cell_type": "markdown",
   "id": "614a55dd",
   "metadata": {},
   "source": [
    "## Diffusion"
   ]
  },
  {
   "attachments": {},
   "cell_type": "markdown",
   "id": "5a536a06",
   "metadata": {},
   "source": [
    "## Sign problem"
   ]
  },
  {
   "attachments": {},
   "cell_type": "markdown",
   "id": "629c978b",
   "metadata": {},
   "source": []
  }
 ],
 "metadata": {
  "kernelspec": {
   "display_name": "Python 3 (ipykernel)",
   "language": "python",
   "name": "python3"
  },
  "language_info": {
   "codemirror_mode": {
    "name": "ipython",
    "version": 3
   },
   "file_extension": ".py",
   "mimetype": "text/x-python",
   "name": "python",
   "nbconvert_exporter": "python",
   "pygments_lexer": "ipython3",
   "version": "3.10.11"
  }
 },
 "nbformat": 4,
 "nbformat_minor": 5
}