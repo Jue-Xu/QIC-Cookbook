{
 "cells": [
  {
   "attachments": {},
   "cell_type": "markdown",
   "id": "9a4f165c",
   "metadata": {},
   "source": [
    "# Quantum Approximate Optimization Algorithm (QAOA)"
   ]
  },
  {
   "attachments": {},
   "cell_type": "markdown",
   "id": "4561176b",
   "metadata": {},
   "source": [
    "````{prf:definition}\n",
    ":label: max-3k-lin2\n",
    "\n",
    "Consider the combinatorial problem Max E3LIN2 over n bits. The E3 means that each\n",
    "clause contains exactly 3 variables. The LIN2 means that each constraint is a linear equation\n",
    "mod 2 so for say bits $x_1$, $x_2$ and $x_3$ the constraint is either $x_1+x_2+x_3 = 0$ or $x_1+x_2+x_3 = 1$.\n",
    "````\n",
    "<!-- https://sphinx-proof.readthedocs.io/en/latest/syntax.html#definitions -->\n",
    "<!-- https://jupyterbook.org/en/stable/content/proof.html -->"
   ]
  },
  {
   "attachments": {},
   "cell_type": "markdown",
   "id": "5bacc214",
   "metadata": {},
   "source": [
    "{prf:ref}`max-3k-lin2`"
   ]
  },
  {
   "attachments": {},
   "cell_type": "markdown",
   "id": "feff86f3",
   "metadata": {},
   "source": [
    "````{prf:example}\n",
    ":label: my-example\n",
    "\n",
    "This is an example\n",
    "````"
   ]
  },
  {
   "attachments": {},
   "cell_type": "markdown",
   "id": "181438bc",
   "metadata": {},
   "source": [
    "```{note}\n",
    "Here is a note!\n",
    "```"
   ]
  },
  {
   "attachments": {},
   "cell_type": "markdown",
   "id": "437a4434",
   "metadata": {},
   "source": [
    "```{admonition} Here's your admonition\n",
    "Here's the admonition content\n",
    "```"
   ]
  },
  {
   "attachments": {},
   "cell_type": "markdown",
   "id": "8892c515",
   "metadata": {},
   "source": [
    "Term 1\n",
    ": Definition\n",
    "\n",
    "Term 2\n",
    ": Definition"
   ]
  },
  {
   "attachments": {},
   "cell_type": "markdown",
   "id": "4489b818",
   "metadata": {},
   "source": [
    "> Here is a cool quotation.\n",
    ">\n",
    "> From me, Jo the Jovyan"
   ]
  },
  {
   "attachments": {},
   "cell_type": "markdown",
   "id": "fba70c40",
   "metadata": {},
   "source": [
    "```{glossary}\n",
    "glossary one\n",
    "  An indented explanation of term 1\n",
    "\n",
    "A second term\n",
    "  An indented explanation of term2\n",
    "```"
   ]
  },
  {
   "attachments": {},
   "cell_type": "markdown",
   "id": "8abac791",
   "metadata": {},
   "source": [
    "```{table} My table title\n",
    ":name: my-table-ref\n",
    "\n",
    "| header 1 | header 2 |\n",
    "|---|---|\n",
    "| 3 | 4 |\n",
    "```"
   ]
  },
  {
   "attachments": {},
   "cell_type": "markdown",
   "id": "10d0ace5",
   "metadata": {},
   "source": [
    "Here is {ref}`my-table-ref`"
   ]
  },
  {
   "attachments": {},
   "cell_type": "markdown",
   "id": "dcfba17d",
   "metadata": {},
   "source": [
    "## Related to Grover \n",
    "Here is [](../qic/grover.ipynb)\n",
    "[](chapter:grover)"
   ]
  },
  {
   "attachments": {},
   "cell_type": "markdown",
   "id": "0c105706",
   "metadata": {
    "vscode": {
     "languageId": "plaintext"
    }
   },
   "source": [
    "```{math}\n",
    ":label: qaoa_hamiltonian\n",
    "H_I = \\sum_i X_i\n",
    "```\n",
    "\n",
    "See Equation [eq](qaoa_hamiltonian)"
   ]
  },
  {
   "attachments": {},
   "cell_type": "markdown",
   "id": "c669e3d3",
   "metadata": {},
   "source": [
    "## Spectral gap"
   ]
  },
  {
   "cell_type": "markdown",
   "id": "537c3def",
   "metadata": {},
   "source": []
  }
 ],
 "metadata": {
  "kernelspec": {
   "display_name": "Python 3 (ipykernel)",
   "language": "python",
   "name": "python3"
  },
  "language_info": {
   "codemirror_mode": {
    "name": "ipython",
    "version": 3
   },
   "file_extension": ".py",
   "mimetype": "text/x-python",
   "name": "python",
   "nbconvert_exporter": "python",
   "pygments_lexer": "ipython3",
   "version": "3.8.16"
  }
 },
 "nbformat": 4,
 "nbformat_minor": 5
}