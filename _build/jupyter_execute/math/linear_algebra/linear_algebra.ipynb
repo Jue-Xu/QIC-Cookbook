{
 "cells": [
  {
   "attachments": {},
   "cell_type": "markdown",
   "id": "947a934a",
   "metadata": {},
   "source": [
    "# Linear Algebra"
   ]
  },
  {
   "attachments": {},
   "cell_type": "markdown",
   "id": "1321319c",
   "metadata": {},
   "source": [
    "## Matrix dot product"
   ]
  },
  {
   "cell_type": "code",
   "execution_count": 1,
   "id": "informative-rider",
   "metadata": {
    "ExecuteTime": {
     "end_time": "2021-02-05T00:39:49.051783Z",
     "start_time": "2021-02-05T00:39:49.041204Z"
    }
   },
   "outputs": [
    {
     "name": "stdout",
     "output_type": "stream",
     "text": [
      "[[0.        -0.5j        0.70710678+0.5j       ]\n",
      " [0.5       +0.70710678j 0.5       +0.j        ]]\n",
      "[[-0.5       +0.j   0.70710678-0.5j]\n",
      " [ 0.70710678+0.5j  0.5       +0.j ]]\n",
      "[[-0.5       +0.j   0.70710678-0.5j]\n",
      " [ 0.70710678+0.5j  0.5       +0.j ]]\n",
      "[[-0.5       +0.j   0.70710678-0.5j]\n",
      " [ 0.70710678+0.5j  0.5       +0.j ]]\n",
      "[[ 7.07106781e-01+0.j          1.11022302e-16-0.70710678j]\n",
      " [ 1.11022302e-16+0.70710678j -7.07106781e-01+0.j        ]]\n",
      "[[ 0.5       +0.j   0.70710678+0.5j]\n",
      " [ 0.70710678-0.5j -0.5       +0.j ]]\n"
     ]
    }
   ],
   "source": [
    "import numpy as np\n",
    "from math import sqrt\n",
    "\n",
    "U = np.matrix([[1/sqrt(2)+1j/2, -1j/2], \n",
    "              [1/2, 1/2+1j/sqrt(2)]])\n",
    "X = np.matrix([[0,1],[1,0]])\n",
    "Y = np.matrix([[0,-1j],[1j,0]])\n",
    "Z = np.matrix([[1,0],[0,-1]])\n",
    "# U.getH()\n",
    "np.matmul(U,X)\n",
    "print(np.matmul(U,X,U.H))\n",
    "print(np.matmul(np.dot(U,X),U.getH()))\n",
    "print(np.matmul(np.matmul(U,X),U.H))\n",
    "print(np.dot(np.dot(U,X),U.getH()))\n",
    "print(np.dot(np.dot(U,Y),U.getH()))\n",
    "print(np.dot(np.dot(U,Z),U.getH()))"
   ]
  },
  {
   "cell_type": "code",
   "execution_count": 2,
   "id": "white-victorian",
   "metadata": {
    "ExecuteTime": {
     "end_time": "2021-02-05T02:06:33.806828Z",
     "start_time": "2021-02-05T02:06:33.800926Z"
    }
   },
   "outputs": [
    {
     "name": "stdout",
     "output_type": "stream",
     "text": [
      "[[1.+0.j 0.+0.j]\n",
      " [0.+0.j 1.+0.j]]\n"
     ]
    }
   ],
   "source": [
    "print(np.matmul(U,U.getH()))"
   ]
  },
  {
   "cell_type": "code",
   "execution_count": 3,
   "id": "yellow-performer",
   "metadata": {
    "ExecuteTime": {
     "end_time": "2021-02-05T02:07:16.249830Z",
     "start_time": "2021-02-05T02:07:16.244422Z"
    }
   },
   "outputs": [
    {
     "name": "stdout",
     "output_type": "stream",
     "text": [
      "[[1.+0.j 0.+0.j]\n",
      " [0.+0.j 1.+0.j]]\n"
     ]
    }
   ],
   "source": [
    "print(np.dot(U,U.getH()))"
   ]
  },
  {
   "attachments": {},
   "cell_type": "markdown",
   "id": "268a3c01",
   "metadata": {},
   "source": [
    "## Matrix exponentiation"
   ]
  },
  {
   "cell_type": "code",
   "execution_count": 4,
   "id": "difficult-method",
   "metadata": {
    "ExecuteTime": {
     "end_time": "2021-02-15T03:41:01.388076Z",
     "start_time": "2021-02-15T03:41:01.381065Z"
    }
   },
   "outputs": [
    {
     "data": {
      "text/plain": [
       "array([[6.123234e-17+0.70710678j, 0.000000e+00+0.70710678j],\n",
       "       [0.000000e+00+0.70710678j, 6.123234e-17-0.70710678j]])"
      ]
     },
     "execution_count": 4,
     "metadata": {},
     "output_type": "execute_result"
    }
   ],
   "source": [
    "from scipy.linalg import expm, sinm, cosm\n",
    "import numpy as np\n",
    "# hadmard gate\n",
    "h = np.array([[1.0, 1.0], [1.0, -1.0]])\n",
    "expm(1j*h/np.sqrt(2)*np.pi/2)"
   ]
  },
  {
   "attachments": {},
   "cell_type": "markdown",
   "id": "60081c83",
   "metadata": {},
   "source": [
    "## Solve matrix inverse"
   ]
  },
  {
   "cell_type": "code",
   "execution_count": 5,
   "id": "supreme-holiday",
   "metadata": {},
   "outputs": [
    {
     "name": "stdout",
     "output_type": "stream",
     "text": [
      "3\n",
      "A= [[ 1.70951333  0.02669562  0.56647952]\n",
      " [-1.50150471  0.22502004 -0.38519427]\n",
      " [ 0.2466312   1.08770668 -0.61499135]\n",
      " [-1.34633434 -0.88231908 -1.49497462]]\n",
      "C= [[-0.99894252 -0.50938036]\n",
      " [-0.02750832  0.39120279]\n",
      " [ 0.29892499  1.94723709]\n",
      " [-0.11906095  0.94543227]]\n",
      "AT_A= [[7.05039533 1.16392677 3.40783492]\n",
      " [1.16392677 2.01293945 0.57856054]\n",
      " [3.40783492 0.57856054 3.08243715]]\n",
      "rank of AT_A: 3\n",
      "[[1.00000000e+00 0.00000000e+00 0.00000000e+00]\n",
      " [8.67361738e-17 1.00000000e+00 4.16333634e-17]\n",
      " [0.00000000e+00 0.00000000e+00 1.00000000e+00]]\n",
      "[[ 0.49659685 -0.49081649  0.04629611 -0.08333223]\n",
      " [-0.49081649  0.52145546  0.04513856 -0.08124867]\n",
      " [ 0.04629611  0.04513856  0.99574232  0.00766375]\n",
      " [-0.08333223 -0.08124867  0.00766375  0.98620537]]\n",
      "B= [[-0.30282484  0.18792367]\n",
      " [ 0.34732375  0.96214569]\n",
      " [ 0.08756111 -1.37788575]]\n",
      "A*B= [[-0.4588095  -0.43360095]\n",
      " [ 0.49911968  0.46508748]\n",
      " [ 0.24925098  1.94026795]\n",
      " [-0.02964853  0.95797663]]\n"
     ]
    }
   ],
   "source": [
    "## solve A(4,3)*B(3,2)=C(4,2)\n",
    "import numpy as np\n",
    "from numpy.linalg import inv, matrix_rank, det\n",
    "from numpy import dot, transpose\n",
    "# np.set_printoptions(precision=5)\n",
    "\n",
    "A = np.random.randn(4, 3)\n",
    "C = np.random.randn(4, 2)\n",
    "print(matrix_rank(A))\n",
    "print('A=',A)\n",
    "print('C=',C)\n",
    "AT_A = dot(transpose(A),A)\n",
    "print('AT_A=',AT_A)\n",
    "print('rank of AT_A:',matrix_rank(AT_A))\n",
    "A_left_inverse = dot(inv( AT_A ), transpose(A))\n",
    "print(dot(inv( AT_A ), AT_A ))\n",
    "print(dot(A,A_left_inverse))\n",
    "B = dot(A_left_inverse, C)\n",
    "print('B=',B)\n",
    "# print(dot(A,dot(A_left_inverse, C)))\n",
    "print('A*B=',dot(A,B))"
   ]
  },
  {
   "cell_type": "code",
   "execution_count": 6,
   "id": "4b3922b9",
   "metadata": {},
   "outputs": [
    {
     "name": "stdout",
     "output_type": "stream",
     "text": [
      "[[10. 17. 12.]\n",
      " [17. 29. 21.]\n",
      " [12. 21. 18.]]\n",
      "-3.197442310920468e-14\n",
      "rank: 2\n",
      "[[-2.53327479e+15  1.68884986e+15 -2.81474977e+14]\n",
      " [ 1.68884986e+15 -1.12589991e+15  1.87649984e+14]\n",
      " [-2.81474977e+14  1.87649984e+14 -3.12749974e+13]]\n"
     ]
    },
    {
     "data": {
      "text/plain": [
       "False"
      ]
     },
     "execution_count": 6,
     "metadata": {},
     "output_type": "execute_result"
    }
   ],
   "source": [
    "a = np.array([[1., 2., 3.], [3., 5., 3.]])\n",
    "aT_a = dot(transpose(a),a)\n",
    "print(aT_a)\n",
    "print(det(aT_a))\n",
    "print('rank:',matrix_rank(aT_a))\n",
    "ainv = inv(aT_a)\n",
    "print(ainv)\n",
    "np.allclose(dot(ainv, aT_a), np.eye(3))"
   ]
  },
  {
   "cell_type": "code",
   "execution_count": null,
   "id": "f78b9e90",
   "metadata": {},
   "outputs": [],
   "source": []
  }
 ],
 "metadata": {
  "kernelspec": {
   "display_name": "Python 3.8.8 ('base')",
   "language": "python",
   "name": "python3"
  },
  "language_info": {
   "codemirror_mode": {
    "name": "ipython",
    "version": 3
   },
   "file_extension": ".py",
   "mimetype": "text/x-python",
   "name": "python",
   "nbconvert_exporter": "python",
   "pygments_lexer": "ipython3",
   "version": "3.8.8"
  },
  "vscode": {
   "interpreter": {
    "hash": "4e8ef2f9fcac0817bca9a7ca376f64f20b4df5ea3bf7af756a50bda7d3557ea6"
   }
  }
 },
 "nbformat": 4,
 "nbformat_minor": 5
}