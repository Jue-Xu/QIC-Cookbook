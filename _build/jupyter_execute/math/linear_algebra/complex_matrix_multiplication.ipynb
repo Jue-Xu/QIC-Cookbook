{
 "cells": [
  {
   "attachments": {},
   "cell_type": "markdown",
   "id": "b1977114",
   "metadata": {},
   "source": [
    "# Complex matrix multiplication"
   ]
  },
  {
   "cell_type": "code",
   "execution_count": 6,
   "id": "informative-rider",
   "metadata": {
    "ExecuteTime": {
     "end_time": "2021-02-05T00:39:49.051783Z",
     "start_time": "2021-02-05T00:39:49.041204Z"
    }
   },
   "outputs": [
    {
     "name": "stdout",
     "output_type": "stream",
     "text": [
      "[[0.        -0.5j        0.70710678+0.5j       ]\n",
      " [0.5       +0.70710678j 0.5       +0.j        ]]\n",
      "[[-0.5       +0.j   0.70710678-0.5j]\n",
      " [ 0.70710678+0.5j  0.5       +0.j ]]\n",
      "[[-0.5       +0.j   0.70710678-0.5j]\n",
      " [ 0.70710678+0.5j  0.5       +0.j ]]\n",
      "[[-0.5       +0.j   0.70710678-0.5j]\n",
      " [ 0.70710678+0.5j  0.5       +0.j ]]\n",
      "[[ 7.07106781e-01+0.j          1.11022302e-16-0.70710678j]\n",
      " [ 1.11022302e-16+0.70710678j -7.07106781e-01+0.j        ]]\n",
      "[[ 0.5       +0.j   0.70710678+0.5j]\n",
      " [ 0.70710678-0.5j -0.5       +0.j ]]\n"
     ]
    }
   ],
   "source": [
    "import numpy as np\n",
    "from math import sqrt\n",
    "U = np.matrix([[1/sqrt(2)+1j/2, -1j/2], \n",
    "              [1/2, 1/2+1j/sqrt(2)]])\n",
    "X = np.matrix([[0,1],[1,0]])\n",
    "Y = np.matrix([[0,-1j],[1j,0]])\n",
    "Z = np.matrix([[1,0],[0,-1]])\n",
    "# U.getH()\n",
    "np.matmul(U,X)\n",
    "print(np.matmul(U,X,U.H))\n",
    "print(np.matmul(np.dot(U,X),U.getH()))\n",
    "print(np.matmul(np.matmul(U,X),U.H))\n",
    "print(np.dot(np.dot(U,X),U.getH()))\n",
    "print(np.dot(np.dot(U,Y),U.getH()))\n",
    "print(np.dot(np.dot(U,Z),U.getH()))"
   ]
  },
  {
   "cell_type": "code",
   "execution_count": 7,
   "id": "white-victorian",
   "metadata": {
    "ExecuteTime": {
     "end_time": "2021-02-05T02:06:33.806828Z",
     "start_time": "2021-02-05T02:06:33.800926Z"
    }
   },
   "outputs": [
    {
     "name": "stdout",
     "output_type": "stream",
     "text": [
      "[[1.+0.j 0.+0.j]\n",
      " [0.+0.j 1.+0.j]]\n"
     ]
    }
   ],
   "source": [
    "print(np.matmul(U,U.getH()))"
   ]
  },
  {
   "cell_type": "code",
   "execution_count": 8,
   "id": "yellow-performer",
   "metadata": {
    "ExecuteTime": {
     "end_time": "2021-02-05T02:07:16.249830Z",
     "start_time": "2021-02-05T02:07:16.244422Z"
    }
   },
   "outputs": [
    {
     "name": "stdout",
     "output_type": "stream",
     "text": [
      "[[1.+0.j 0.+0.j]\n",
      " [0.+0.j 1.+0.j]]\n"
     ]
    }
   ],
   "source": [
    "print(np.dot(U,U.getH()))"
   ]
  },
  {
   "cell_type": "code",
   "execution_count": 6,
   "id": "difficult-method",
   "metadata": {
    "ExecuteTime": {
     "end_time": "2021-02-15T03:41:01.388076Z",
     "start_time": "2021-02-15T03:41:01.381065Z"
    }
   },
   "outputs": [
    {
     "data": {
      "text/plain": [
       "array([[1.11022302e-16+0.70710678j, 0.00000000e+00+0.70710678j],\n",
       "       [0.00000000e+00+0.70710678j, 0.00000000e+00-0.70710678j]])"
      ]
     },
     "execution_count": 6,
     "metadata": {},
     "output_type": "execute_result"
    }
   ],
   "source": [
    "from scipy.linalg import expm, sinm, cosm\n",
    "import numpy as np\n",
    "# hadmard gate\n",
    "h = np.array([[1.0, 1.0], [1.0, -1.0]])\n",
    "expm(1j*h/np.sqrt(2)*np.pi/2)"
   ]
  },
  {
   "cell_type": "code",
   "execution_count": null,
   "id": "supreme-holiday",
   "metadata": {},
   "outputs": [],
   "source": []
  }
 ],
 "metadata": {
  "kernelspec": {
   "display_name": "Python 3.8.8 ('base')",
   "language": "python",
   "name": "python3"
  },
  "language_info": {
   "codemirror_mode": {
    "name": "ipython",
    "version": 3
   },
   "file_extension": ".py",
   "mimetype": "text/x-python",
   "name": "python",
   "nbconvert_exporter": "python",
   "pygments_lexer": "ipython3",
   "version": "3.8.8"
  },
  "vscode": {
   "interpreter": {
    "hash": "4e8ef2f9fcac0817bca9a7ca376f64f20b4df5ea3bf7af756a50bda7d3557ea6"
   }
  }
 },
 "nbformat": 4,
 "nbformat_minor": 5
}