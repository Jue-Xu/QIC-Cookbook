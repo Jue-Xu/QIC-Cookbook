{
 "cells": [
  {
   "attachments": {},
   "cell_type": "markdown",
   "id": "947a934a",
   "metadata": {},
   "source": [
    "# SDP and Duality"
   ]
  },
  {
   "cell_type": "markdown",
   "id": "858f87e4",
   "metadata": {},
   "source": [
    "## Duality\n",
    "\n",
    "Optimization in standard form (not necessarily convex)\n",
    "- minimize $f_0(x)$\n",
    "- s.t. $f_i\\le 0$, $h_i(x)=0$\n",
    "\n",
    "### Lagrangian \n",
    "$L: R^n\\times R^m \\times R^p \\to R$ with $dom (L) \\ D \\times R^m \\times R^p$\n",
    "$L(x,\\lambda,\\nu)= f_0(x) + \\sum_i^m \\lambda_i f_i(x) + \\sum_i^p \\nu_i h_i$\n",
    "\n",
    "- Lagrange multipliers (Lagrangian dual variables): $\\lambda_i$, $\\nu_i$\n",
    "- augment $f_0(x)$ by weighted sum of contraint functions (penalty functions)\n",
    "\n",
    "Lagrange dual function: $g:R^m\\times R^p \\to R$,\n",
    "$$\n",
    "g(\\lambda,\\nu) = \\inf L(x,\\lambda,\\nu)\n",
    "$$\n",
    "\n",
    "Lagrange dual problem\n",
    "- $\\max g(\\lambda, \\nu)$\n",
    "- $\\lambda \\prec 0$\n",
    "\n",
    "### LP and its dual\n",
    "#### standard form LP\n",
    "- minimize $c^T x$\n",
    "- s.t. $Ax = b$, $x \\succeq 0$\n",
    "\n",
    "#### Lagrangian\n",
    "$L(x,\\lambda,\\nu) = c^T x + v^T (Ax-b) - \\lambda^T x = -b^T v + (c+A^T v- \\lambda)^T x$\n",
    "\n",
    "#### Lagrange dual function\n",
    "$g(\\lambda,\\nu) = inf_{x} L(x,\\lambda,\\nu)=-b^T v, A^Tv-\\lambda+c=0; -\\infty, otherwise$\n",
    "\n",
    "#### Dual problem\n",
    "- maximize $-b^T v$\n",
    "- s.t. $A^T v + c \\preceq 0$\n",
    "\n",
    "### Lagrange dual and conjugate function\n",
    "optimization with affine inequality and equality constraints\n",
    "- minimize $f_0(x)$\n",
    "- s.t. $Ax \\preceq b$, $C x = d$\n",
    "\n",
    "Lagrange dual function\n",
    "$g(\\lambda,v) = inf_x f_0(x) + (A^T \\lambda + C^T v)^T x - b^T \\lambda -d^T v=-f_0^*(-A^T \\lambda - C^T v) - b^T \\lambda -d^T v$\n",
    "\n",
    "- recall definition of conjugate $f^*(y)=sup_x (y^T x - f(x))$\n",
    "- simplifies derivation of dual if conjugate of $f_0$ is known\n",
    "$f_0(x) = \\sum_i^n x_i \\log x_i$, $f_0^*(y) = \\sum_i^n e^{y_i-1}$"
   ]
  },
  {
   "cell_type": "markdown",
   "id": "6f371c44",
   "metadata": {},
   "source": [
    "````{prf:example} driving the dual problem\n",
    "- $\\min x_1^2 + x_2^2$\n",
    "- s.t $3x_1 + 5x_2 = 7$, $6x_1 + 4x_2 \\le 9$\n",
    "\n",
    "`Lagrangian`: $L(x,\\lambda,\\mu) = x_1^2 + x_2^2 + \\lambda(6x_1 + 4x_2-9)+\\mu(3x_1+5x_2 -7)$\n",
    "\n",
    "`Lagrange dual function`: \n",
    "$g(\\lambda,\\mu) = \\inf_{x\\in R^2} x_1^2 + x_2^2 + \\lambda(6x_1 + 4x_2 - 9) + \\mu (3x_1 + 5x_2 - 7) = -13 \\lambda^2 - 8.5 \\mu^2 - 19\\lambda \\mu -9\\lambda -7\\mu$\n",
    "\n",
    "`dual problem`: $\\max-13\\lambda^2 - 8.5 \\nu^2 ...$\n",
    "````"
   ]
  },
  {
   "cell_type": "markdown",
   "id": "4f45af6e",
   "metadata": {},
   "source": [
    "## Primal and Lagrange dual problems\n",
    "\n",
    "- Primal problem (convex or non-convex)\n",
    "\n",
    "- Lagrange dual problem (is a `convex` optimization problem)\n",
    "\n",
    "Property 1: $g(\\lambda ,\\nu)$ is concave on $(\\lambda,\\nu)$ even if the original problem is not convex\n",
    "\n",
    "Proof: For each fixed $x, g(\\lambda, \\nu)$ is ... pointwise infimum ... concave\n",
    "\n",
    "````{prf:example} Max-Cut\n",
    "<!-- NP-hard -->\n",
    "variable: \n",
    "- adjacency matrix of the graph $Q=1, \\{i,j\\}\\in E; 0, OW$\n",
    "- a cut decided by a vector $x\\in R^n$, $x_i = 1, i\\in S; -1, OW$\n",
    "- capacity of the cut $c(x) = \\frac{1}{4} \\sum_i^n\\sum_j^n (1-x_ix_j)Q_{ij}$ \n",
    "($1-x_ix_j=2$ if $\\{i,j\\}$ is in the cut set) $(x_i-x_j/2)^2$\n",
    "\n",
    "primal problem (NP Complete even if $Q\\succeq 0$):\n",
    "- minimize $x^T Q x$ \n",
    "- s.t. $x\\in \\{-1, 1\\} \\forall i=1, \\dots, n$\n",
    "\n",
    "The maximum cut is $c_\\max = \\frac{1}{4} \\sum_i\\sum_j Q_{ij} - \\frac{1}{4} p^*$\n",
    "\n",
    "- `Dual problem` (SDP)\n",
    "let $\\Lambda=diag(\\lambda_1,\\dots, \\lambda_n)$, \n",
    "the Lagrangian is $L(x,\\lambda) = x^T Q x - \\sum_i^n \\lambda_i (x_i^2 - 1) = x^T (Q-\\Lambda) x + Tr(A)$.\n",
    "the dual is \n",
    "- maximize $tr(\\Lambda)$\n",
    "- s.t. $Q-\\Lambda\\succeq 0$\n",
    "````"
   ]
  },
  {
   "cell_type": "markdown",
   "id": "2ac153ce",
   "metadata": {},
   "source": [
    "Property 2: $g(\\lambda,\\nu)\\le f_0(x)$ for every primal feasible x and dual feasible $(\\lambda,\\nu)$\n",
    "\n",
    "Remarks: \n",
    "- $f_0(x) - g(\\lambda,\\nu)$: `duality gap` for $(x,\\lambda,\\nu)$, which is always non-negative $p^*-d^*$: optimal duality gap\n",
    "- $d^*\\le p^*$: `weak duality`\n",
    "for any optimization problem: convex or not can be used to find a non-trivial lower bound on $p^*$, for difficult primal problems\n",
    "\n",
    "any dual feaisble solution gives a `lower bound` on primal objective value:\n",
    "for any feasible $x$ \n",
    "$x^T Qx \\ge x^T \\Lambda x = \\sum_i \\Lambda_{ii} x_i^2 = Tr(\\Lambda)$\n",
    "\n",
    "### strong duality\n",
    "`strong duality:` $d^* = p^*$\n",
    "- does not hold in general\n",
    "- (usually) holds for convex problems\n",
    "- conditions that guarantee strong duality in convex problems are called constraint qualifications\n",
    "\n",
    "#### Slater's constraint qualification\n",
    "strong duality holds for a convex problem\n",
    "- minimize $f_0(x)$\n",
    "- s.t. $f_i(x)\\le 0$, $Ax=b$\n",
    "\n",
    "if it is strictly feasible, i.e., \n",
    "$\\exists x \\in int(D): f_i(x) < 0, i=1,\\dots,m, Ax = b$.\n",
    "\n",
    "Can be refined: linear inequalities do not need to hold with strict inequality\n",
    "\n",
    "If an LP (in any form) has an optimal solution $x^*$, then the dual also has an optimal solution $y^*$ and $C^T x^* = b^T y^*$\n"
   ]
  }
 ],
 "metadata": {
  "kernelspec": {
   "display_name": "Python 3.8.8 ('base')",
   "language": "python",
   "name": "python3"
  },
  "language_info": {
   "codemirror_mode": {
    "name": "ipython",
    "version": 3
   },
   "file_extension": ".py",
   "mimetype": "text/x-python",
   "name": "python",
   "nbconvert_exporter": "python",
   "pygments_lexer": "ipython3",
   "version": "3.10.10"
  },
  "vscode": {
   "interpreter": {
    "hash": "4e8ef2f9fcac0817bca9a7ca376f64f20b4df5ea3bf7af756a50bda7d3557ea6"
   }
  }
 },
 "nbformat": 4,
 "nbformat_minor": 5
}