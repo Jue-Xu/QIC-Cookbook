{
 "cells": [
  {
   "attachments": {},
   "cell_type": "markdown",
   "id": "947a934a",
   "metadata": {},
   "source": [
    "# Convex Optimization"
   ]
  },
  {
   "cell_type": "markdown",
   "id": "a5be97ec",
   "metadata": {},
   "source": [
    "## Convex Definitions \n",
    "\n",
    "````{prf:definition} Convex\n",
    ":label: convex_combination\n",
    "$$a x_1 + (1-a) x_2$$\n",
    "````"
   ]
  },
  {
   "cell_type": "markdown",
   "id": "b86898c7",
   "metadata": {},
   "source": [
    "## Linear programming\n",
    "\n"
   ]
  },
  {
   "attachments": {},
   "cell_type": "markdown",
   "id": "bb8af260",
   "metadata": {},
   "source": [
    "### Min-Max theorem"
   ]
  },
  {
   "cell_type": "markdown",
   "id": "027e7892",
   "metadata": {},
   "source": [
    "## Integer Programming"
   ]
  },
  {
   "cell_type": "code",
   "execution_count": null,
   "id": "b5d3ea3e",
   "metadata": {},
   "outputs": [],
   "source": []
  }
 ],
 "metadata": {
  "kernelspec": {
   "display_name": "Python 3.8.8 ('base')",
   "language": "python",
   "name": "python3"
  },
  "language_info": {
   "codemirror_mode": {
    "name": "ipython",
    "version": 3
   },
   "file_extension": ".py",
   "mimetype": "text/x-python",
   "name": "python",
   "nbconvert_exporter": "python",
   "pygments_lexer": "ipython3",
   "version": "3.8.8"
  },
  "vscode": {
   "interpreter": {
    "hash": "4e8ef2f9fcac0817bca9a7ca376f64f20b4df5ea3bf7af756a50bda7d3557ea6"
   }
  }
 },
 "nbformat": 4,
 "nbformat_minor": 5
}