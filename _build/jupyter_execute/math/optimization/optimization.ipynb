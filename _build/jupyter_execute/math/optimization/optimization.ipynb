{
 "cells": [
  {
   "attachments": {},
   "cell_type": "markdown",
   "id": "947a934a",
   "metadata": {},
   "source": [
    "# Optimization\n",
    "```{math}\n",
    "\n",
    "\\newcommand\\realnumber{\\mathbb{R}}\n",
    "\\newcommand\\vbx{\\vb{x}}\n",
    "```"
   ]
  },
  {
   "cell_type": "markdown",
   "id": "78b73897",
   "metadata": {},
   "source": [
    "## Mathematical Optimization\n",
    "An optimization problem consists of a set $D$, called the `domain`, and a real-valued function $f:D\\to \\realnumber$, called the `objective` fucntion.\n",
    "- minimization problem: find an $x\\in D$ such that $f(x)\\le f(y)$ for all $y\\in D$.  \n",
    "- maximization problem: find an $x\\in D$ such that $f(x)\\ge f(y)$ for all $y\\in D$.\n",
    "\n",
    "a mathematical program consist of:\n",
    "- an objective function $f_0: \\realnumber^n \\to \\realnumber$ \n",
    "- a set of $m$  constriant functions $f_i: \\mathbb{R}^n \\to \\mathbb{R}, i=1,\\dots, m$.\n",
    "- constant variables $x$ "
   ]
  },
  {
   "cell_type": "markdown",
   "id": "f6766378",
   "metadata": {},
   "source": [
    "````{prf:definition} Optimization problem\n",
    ":label: optimization_problem\n",
    "\n",
    "A `optimization problem`, has the form\n",
    "````\n",
    "A vector $x^*$ is called `optimal`, or solution to {prf:ref}`optimization_problem`,\n",
    "if it has the smallest objective value among all vectors that satisfy the constraints."
   ]
  },
  {
   "cell_type": "code",
   "execution_count": null,
   "id": "b5d3ea3e",
   "metadata": {},
   "outputs": [],
   "source": []
  }
 ],
 "metadata": {
  "kernelspec": {
   "display_name": "Python 3.8.8 ('base')",
   "language": "python",
   "name": "python3"
  },
  "language_info": {
   "codemirror_mode": {
    "name": "ipython",
    "version": 3
   },
   "file_extension": ".py",
   "mimetype": "text/x-python",
   "name": "python",
   "nbconvert_exporter": "python",
   "pygments_lexer": "ipython3",
   "version": "3.8.8"
  },
  "vscode": {
   "interpreter": {
    "hash": "4e8ef2f9fcac0817bca9a7ca376f64f20b4df5ea3bf7af756a50bda7d3557ea6"
   }
  }
 },
 "nbformat": 4,
 "nbformat_minor": 5
}