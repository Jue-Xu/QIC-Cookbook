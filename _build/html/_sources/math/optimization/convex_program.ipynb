{
 "cells": [
  {
   "attachments": {},
   "cell_type": "markdown",
   "id": "947a934a",
   "metadata": {},
   "source": [
    "# Convex Program\n",
    "```{math}\n",
    "\n",
    "\\newcommand\\realnumber{\\mathbb{R}}\n",
    "\\newcommand\\vbx{\\vb{x}}\n",
    "```"
   ]
  },
  {
   "cell_type": "markdown",
   "id": "0f03be22",
   "metadata": {},
   "source": [
    "## Convex optimization\n",
    "\n",
    "standard form convex opt problem: \n",
    "$f_0, f_1, \\dots, f_m$ are convex: equality constraints are affine\n",
    "\n",
    "`important property: feasible set of a convex opt prob is cvx`\n",
    "\n",
    "generalized inequalities are also ok\n",
    "\n",
    "$\\min c^T x$ subject to: $A_0+A_1x_1 + A_2x_2 +\\dots + A_n x_n\\preceq 0$\n",
    "\n",
    "`any locally opt point of a cvx program is (globally) optimal` (proof by contradiction)\n",
    "\n",
    "### Optimality criteria for differentiable convex $f_0$\n",
    "$x$ is optimal if and only if it is feasible and $\\nabla f_0(x)^T (y-x) \\ge 0 \\text{ for all feasible } y$\n",
    "````{prf:proof}\n",
    "    directional derivative\n",
    "    $$\n",
    "    \\frac{d}{dt} f(x+tv) \\mid_{t=0} = \\nabla f(x)^T v\n",
    "    $$\n",
    "````\n",
    "#### uncontrained problem: $x$ is optimal iff $x\\in dom f_0$, $\\nabla f_0(x)=0$\n",
    "\n",
    "#### equality constrained problem\n",
    "$\\min f_0(x)$ subject to $Ax = b$\n",
    "$x$ is optimal iff there exists a $\\nu$ such that \n",
    "$x\\in dom f_0, Ax=b, \\nabla f_o(x) + A^T \\nu = 0$\n",
    "````{prf:proof}\n",
    "    By Null space and range  {prf:ref}`null_space`\n",
    "````\n",
    "\n",
    "````{prf:definition} Null space\n",
    ":label: null_space\n",
    ":class: dropdown\n",
    "- $N(A) = \\{ x\\in R^n \\mid Ax = 0 \\}$\n",
    "- $R(A) = \\{ v\\in R^n \\mid Ax = v \\}$\n",
    "````\n",
    "\n",
    "#### minimization over nonnegative orthant\n",
    "minimize $f_0(x)$ subject to $x \\preceq 0$,\n",
    "$x$ is optimal iff $x\\in dom f_0$, $x\\preceq 0$, $\\nabla f_0(x)_i\\ge 0,x_i=0$ and $\\nabla f_0(x)_i=0,x_i>0$. "
   ]
  }
 ],
 "metadata": {
  "kernelspec": {
   "display_name": "Python 3.8.8 ('base')",
   "language": "python",
   "name": "python3"
  },
  "language_info": {
   "codemirror_mode": {
    "name": "ipython",
    "version": 3
   },
   "file_extension": ".py",
   "mimetype": "text/x-python",
   "name": "python",
   "nbconvert_exporter": "python",
   "pygments_lexer": "ipython3",
   "version": "3.8.8"
  },
  "vscode": {
   "interpreter": {
    "hash": "4e8ef2f9fcac0817bca9a7ca376f64f20b4df5ea3bf7af756a50bda7d3557ea6"
   }
  }
 },
 "nbformat": 4,
 "nbformat_minor": 5
}
