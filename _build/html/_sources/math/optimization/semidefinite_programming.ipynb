{
 "cells": [
  {
   "attachments": {},
   "cell_type": "markdown",
   "id": "947a934a",
   "metadata": {},
   "source": [
    "# Semidefinite Programming (SDP)"
   ]
  },
  {
   "cell_type": "markdown",
   "id": "c539b2e6",
   "metadata": {},
   "source": [
    "## Semi-definite\n",
    "\n",
    "````{prf:definition} SDP\n",
    ":label: sdp\n",
    "\n",
    "- minimize $c^T x$\n",
    "- s.t. $x_1 F_1 + \\cdots + x_n F_n + G \\preceq 0$ with $F_i, G \\in S^k$\n",
    "````\n",
    "- inequality constraint is called linear matrix inequailty (LMI)\n",
    "- \n",
    "\n",
    "````{prf:example} Minimize maximum eigenvalue\n",
    "minimize $\\lambda_{\\max} (A(x))$ where \n",
    "$A(x) = A_0 + x_1 A_1 + \\cdots + x_n A_n$ (with given $A_i \\in S^k$)\n",
    "````\n",
    "$\\lambda_{\\max} (A) = \\max_{||y||\\le 1} y^T A y$ where $y$ is the eigenvector of $A$\n",
    "equivalent to\n",
    "- minimize t\n",
    "- \n",
    "equivalent to (SDP)\n",
    "- minimize \n",
    "- s.t. $A(x) - t I \\preceq 0$\n",
    "\n",
    "### Vector optimization\n",
    "general vector optimization problem\n",
    "- minimize (w.r.t $K$) $f_0(x)$\n",
    "- s.t. $f_i(x)\\le 0$, $h_i(x)=0$\n",
    "\n",
    "vector-valued objective function: \n",
    "$f_0: R^n \\to R^q$, minimized w.r.t proper cone $K\\in R^q$"
   ]
  },
  {
   "cell_type": "markdown",
   "id": "858f87e4",
   "metadata": {},
   "source": [
    "## Algorithms"
   ]
  },
  {
   "cell_type": "markdown",
   "id": "e6cc9ae1",
   "metadata": {},
   "source": [
    "````{prf:algorithm} SDP\n",
    ":label: sdp\n",
    ":class: dropdown\n",
    "````"
   ]
  }
 ],
 "metadata": {
  "kernelspec": {
   "display_name": "Python 3.8.8 ('base')",
   "language": "python",
   "name": "python3"
  },
  "language_info": {
   "codemirror_mode": {
    "name": "ipython",
    "version": 3
   },
   "file_extension": ".py",
   "mimetype": "text/x-python",
   "name": "python",
   "nbconvert_exporter": "python",
   "pygments_lexer": "ipython3",
   "version": "3.10.10"
  },
  "vscode": {
   "interpreter": {
    "hash": "4e8ef2f9fcac0817bca9a7ca376f64f20b4df5ea3bf7af756a50bda7d3557ea6"
   }
  }
 },
 "nbformat": 4,
 "nbformat_minor": 5
}
