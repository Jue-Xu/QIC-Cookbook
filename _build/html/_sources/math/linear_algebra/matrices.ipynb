{
 "cells": [
  {
   "attachments": {},
   "cell_type": "markdown",
   "id": "947a934a",
   "metadata": {},
   "source": [
    "# Matrices"
   ]
  },
  {
   "cell_type": "markdown",
   "id": "b95f392a",
   "metadata": {},
   "source": [
    "## Real symmetric matrix"
   ]
  },
  {
   "cell_type": "markdown",
   "id": "b8de48f6",
   "metadata": {},
   "source": [
    "## Orthogonal matrix"
   ]
  },
  {
   "cell_type": "markdown",
   "id": "19b289b2",
   "metadata": {},
   "source": [
    "## Symplectic matrix"
   ]
  },
  {
   "cell_type": "markdown",
   "id": "3dee46a6",
   "metadata": {},
   "source": [
    "````{prf:definition} Symplectic matrix\n",
    ":label: symplectic_matrix\n",
    "\n",
    "A `symplectic matrix` is a $2n\\times 2n$ matrix $M$ with real entries that satisfies the condition\n",
    "```{math}\n",
    "M^T \\Omega M = \\Omega,\n",
    "```\n",
    "where $M^T$ denotes the transpose of $M$ and $\\Omega$ is a fixed $2n\\times 2n$ nonsingular, skew-symemtric matrix.\n",
    "````\n",
    "Typically $\\Omega$ chosen to be the block matrix \n",
    "```{math}\n",
    "\\Omega = 0, I_n \\\\ -I_n, 0\n",
    "```"
   ]
  },
  {
   "cell_type": "markdown",
   "id": "a97609c1",
   "metadata": {},
   "source": [
    "````{prf:remark}\n",
    ":class: dropdown\n",
    "If instead M is a 2n × 2n matrix with complex entries, the definition is not standard throughout the literature. Many authors adjust the definition above to\n",
    "```{math}\n",
    "M^* \\Omega M = \\Omega\\,.\n",
    "```\n",
    "where M* denotes the conjugate transpose of M. In this case, the determinant may not be 1, but will have absolute value 1. In the 2×2 case (n=1), M will be the product of a real symplectic matrix and a complex number of absolute value 1.\n",
    "````"
   ]
  },
  {
   "cell_type": "markdown",
   "id": "9db0e05d",
   "metadata": {},
   "source": [
    "## Unitary matrix"
   ]
  },
  {
   "cell_type": "markdown",
   "id": "eeab0986",
   "metadata": {},
   "source": [
    "## Hermitian matrix"
   ]
  }
 ],
 "metadata": {
  "kernelspec": {
   "display_name": "Python 3.8.8 ('base')",
   "language": "python",
   "name": "python3"
  },
  "language_info": {
   "codemirror_mode": {
    "name": "ipython",
    "version": 3
   },
   "file_extension": ".py",
   "mimetype": "text/x-python",
   "name": "python",
   "nbconvert_exporter": "python",
   "pygments_lexer": "ipython3",
   "version": "3.8.8"
  },
  "vscode": {
   "interpreter": {
    "hash": "4e8ef2f9fcac0817bca9a7ca376f64f20b4df5ea3bf7af756a50bda7d3557ea6"
   }
  }
 },
 "nbformat": 4,
 "nbformat_minor": 5
}
