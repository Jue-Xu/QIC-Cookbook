{
 "cells": [
  {
   "attachments": {},
   "cell_type": "markdown",
   "id": "947a934a",
   "metadata": {},
   "source": [
    "# Cholesky decomposition"
   ]
  },
  {
   "attachments": {},
   "cell_type": "markdown",
   "id": "1321319c",
   "metadata": {},
   "source": [
    "## Statement\n",
    "\n",
    "The Cholesky decomposition of a Hermitian positive-definite matrix $A$, is a decomposition of the form\n",
    "\n",
    "$$A=LL^\\dagger$$\n",
    "\n",
    "where $L$ is a lower triangular matrix with real and positive diagonal entries, and $L^\\dagger$ denotes the conjugate transpose of $L$."
   ]
  },
  {
   "attachments": {},
   "cell_type": "markdown",
   "id": "4d8825e6",
   "metadata": {},
   "source": [
    "````{prf:theorem} Orthogonal-Projection-Theorem\n",
    ":label: my-theorem\n",
    ":class: dropdown\n",
    "\n",
    "Given $y \\in \\mathbb R^n$ and linear subspace $S \\subset \\mathbb R^n$,\n",
    "there exists a unique solution to the minimization problem\n",
    "\n",
    "```{math}\n",
    "\\hat y := \\argmin_{z \\in S} \\|y - z\\|\n",
    "```\n",
    "\n",
    "The minimizer $\\hat y$ is the unique vector in $\\mathbb R^n$ that satisfies\n",
    "\n",
    "* $\\hat y \\in S$\n",
    "\n",
    "* $y - \\hat y \\perp S$\n",
    "\n",
    "\n",
    "The vector $\\hat y$ is called the **orthogonal projection** of $y$ onto $S$.\n",
    "````\n",
    "<!-- https://sphinx-proof.readthedocs.io/en/latest/syntax.html#how-to-hide-content -->"
   ]
  },
  {
   "attachments": {},
   "cell_type": "markdown",
   "id": "268a3c01",
   "metadata": {},
   "source": [
    "## Proof\n",
    "\n",
    "### numerical solution of linear equations\n",
    "\n",
    "### Proof for positive semi-definite matrices\n",
    "\n",
    "### Proof by QR decomposition\n"
   ]
  },
  {
   "cell_type": "code",
   "execution_count": null,
   "id": "difficult-method",
   "metadata": {
    "ExecuteTime": {
     "end_time": "2021-02-15T03:41:01.388076Z",
     "start_time": "2021-02-15T03:41:01.381065Z"
    }
   },
   "outputs": [],
   "source": []
  },
  {
   "attachments": {},
   "cell_type": "markdown",
   "id": "41f1a944",
   "metadata": {},
   "source": [
    "## The algorithm"
   ]
  },
  {
   "attachments": {},
   "cell_type": "markdown",
   "id": "13d0ab06",
   "metadata": {},
   "source": [
    "## Efficiency"
   ]
  },
  {
   "attachments": {},
   "cell_type": "markdown",
   "id": "60081c83",
   "metadata": {},
   "source": [
    "## Applications\n",
    "\n",
    "\n",
    "### Monte Carlo simulation\n",
    "\n",
    "### Matrix inversion"
   ]
  },
  {
   "cell_type": "code",
   "execution_count": 1,
   "id": "supreme-holiday",
   "metadata": {},
   "outputs": [],
   "source": [
    "## solve A(4,3)*B(3,2)=C(4,2)\n",
    "import numpy as np\n",
    "from numpy.linalg import inv, matrix_rank, det\n",
    "from numpy import dot, transpose\n"
   ]
  },
  {
   "cell_type": "code",
   "execution_count": 65,
   "id": "4b3922b9",
   "metadata": {},
   "outputs": [
    {
     "name": "stdout",
     "output_type": "stream",
     "text": [
      "[[10. 17. 12.]\n",
      " [17. 29. 21.]\n",
      " [12. 21. 18.]]\n",
      "-2.498001805406606e-14\n",
      "rank: 2\n",
      "[[-3.24259173e+15  2.16172782e+15 -3.60287970e+14]\n",
      " [ 2.16172782e+15 -1.44115188e+15  2.40191980e+14]\n",
      " [-3.60287970e+14  2.40191980e+14 -4.00319967e+13]]\n"
     ]
    },
    {
     "data": {
      "text/plain": [
       "False"
      ]
     },
     "execution_count": 65,
     "metadata": {},
     "output_type": "execute_result"
    }
   ],
   "source": [
    "a = np.array([[1., 2., 3.], [3., 5., 3.]])\n",
    "aT_a = dot(transpose(a),a)\n",
    "print(aT_a)\n",
    "print(det(aT_a))\n",
    "print('rank:',matrix_rank(aT_a))\n",
    "ainv = inv(aT_a)\n",
    "print(ainv)\n",
    "np.allclose(dot(ainv, aT_a), np.eye(3))"
   ]
  },
  {
   "cell_type": "code",
   "execution_count": null,
   "id": "f78b9e90",
   "metadata": {},
   "outputs": [],
   "source": []
  }
 ],
 "metadata": {
  "kernelspec": {
   "display_name": "Python 3.8.8 ('base')",
   "language": "python",
   "name": "python3"
  },
  "language_info": {
   "codemirror_mode": {
    "name": "ipython",
    "version": 3
   },
   "file_extension": ".py",
   "mimetype": "text/x-python",
   "name": "python",
   "nbconvert_exporter": "python",
   "pygments_lexer": "ipython3",
   "version": "3.8.8"
  },
  "vscode": {
   "interpreter": {
    "hash": "4e8ef2f9fcac0817bca9a7ca376f64f20b4df5ea3bf7af756a50bda7d3557ea6"
   }
  }
 },
 "nbformat": 4,
 "nbformat_minor": 5
}
