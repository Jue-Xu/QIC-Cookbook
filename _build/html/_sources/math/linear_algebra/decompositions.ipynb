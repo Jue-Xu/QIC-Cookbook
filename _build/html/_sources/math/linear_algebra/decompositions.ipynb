{
 "cells": [
  {
   "attachments": {},
   "cell_type": "markdown",
   "id": "947a934a",
   "metadata": {},
   "source": [
    "# Decomposition"
   ]
  },
  {
   "attachments": {},
   "cell_type": "markdown",
   "id": "9c704735",
   "metadata": {},
   "source": [
    "## Cholesky\n",
    "\n",
    "[cholesky_decomposition](./decompositions/cholesky_decomposition.ipynb)"
   ]
  },
  {
   "attachments": {},
   "cell_type": "markdown",
   "id": "547e5e0e",
   "metadata": {},
   "source": [
    "## QR"
   ]
  },
  {
   "attachments": {},
   "cell_type": "markdown",
   "id": "4f082635",
   "metadata": {},
   "source": [
    "## LC"
   ]
  },
  {
   "attachments": {},
   "cell_type": "markdown",
   "id": "01d7cbd9",
   "metadata": {},
   "source": [
    "## Spectrum"
   ]
  },
  {
   "attachments": {},
   "cell_type": "markdown",
   "id": "c2596980",
   "metadata": {},
   "source": [
    "## SVD"
   ]
  }
 ],
 "metadata": {
  "kernelspec": {
   "display_name": "Python 3.8.8 ('base')",
   "language": "python",
   "name": "python3"
  },
  "language_info": {
   "codemirror_mode": {
    "name": "ipython",
    "version": 3
   },
   "file_extension": ".py",
   "mimetype": "text/x-python",
   "name": "python",
   "nbconvert_exporter": "python",
   "pygments_lexer": "ipython3",
   "version": "3.8.8"
  },
  "vscode": {
   "interpreter": {
    "hash": "4e8ef2f9fcac0817bca9a7ca376f64f20b4df5ea3bf7af756a50bda7d3557ea6"
   }
  }
 },
 "nbformat": 4,
 "nbformat_minor": 5
}
