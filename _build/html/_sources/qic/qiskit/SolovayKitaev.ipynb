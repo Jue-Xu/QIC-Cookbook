{
 "cells": [
  {
   "attachments": {},
   "cell_type": "markdown",
   "id": "c8a646a6",
   "metadata": {},
   "source": [
    "# Solovay-Kitaev algorithm"
   ]
  },
  {
   "cell_type": "code",
   "execution_count": 1,
   "id": "cb20dcec",
   "metadata": {},
   "outputs": [
    {
     "name": "stdout",
     "output_type": "stream",
     "text": [
      "Original circuit:\n",
      "   ┌─────────┐\n",
      "q: ┤ Rx(0.8) ├\n",
      "   └─────────┘\n"
     ]
    },
    {
     "name": "stderr",
     "output_type": "stream",
     "text": [
      "/opt/homebrew/Caskroom/miniforge/base/lib/python3.10/site-packages/numpy/linalg/linalg.py:2154: RuntimeWarning: divide by zero encountered in det\n",
      "  r = _umath_linalg.det(a, signature=signature)\n",
      "/opt/homebrew/Caskroom/miniforge/base/lib/python3.10/site-packages/numpy/linalg/linalg.py:2154: RuntimeWarning: invalid value encountered in det\n",
      "  r = _umath_linalg.det(a, signature=signature)\n",
      "/opt/homebrew/Caskroom/miniforge/base/lib/python3.10/site-packages/qiskit/synthesis/discrete_basis/generate_basis_approximations.py:61: RuntimeWarning: The SolovayKitaev algorithm relies on scikit-learn's KDTree for a fast search over the basis approximations. Without this, we fallback onto a greedy search with is significantly slower. We highly suggest to install scikit-learn to use this feature.\n",
      "  warnings.warn(\n"
     ]
    },
    {
     "name": "stdout",
     "output_type": "stream",
     "text": [
      "Discretized circuit:\n",
      "global phase: 7π/8\n",
      "   ┌───┐┌───┐┌───┐\n",
      "q: ┤ H ├┤ T ├┤ H ├\n",
      "   └───┘└───┘└───┘\n",
      "Error: 2.828408279166474\n"
     ]
    }
   ],
   "source": [
    "import numpy as np\n",
    "from qiskit.circuit import QuantumCircuit\n",
    "from qiskit.transpiler.passes.synthesis import SolovayKitaev\n",
    "from qiskit.quantum_info import Operator\n",
    "\n",
    "circuit = QuantumCircuit(1)\n",
    "circuit.rx(0.8, 0)\n",
    "\n",
    "print(\"Original circuit:\")\n",
    "print(circuit.draw())\n",
    "\n",
    "skd = SolovayKitaev(recursion_degree=2)\n",
    "\n",
    "discretized = skd(circuit)\n",
    "\n",
    "print(\"Discretized circuit:\")\n",
    "print(discretized.draw())\n",
    "\n",
    "print(\"Error:\", np.linalg.norm(Operator(circuit).data - Operator(discretized).data))"
   ]
  },
  {
   "attachments": {},
   "cell_type": "markdown",
   "id": "1514add0",
   "metadata": {},
   "source": []
  }
 ],
 "metadata": {
  "kernelspec": {
   "display_name": "Python 3",
   "language": "python",
   "name": "python3"
  },
  "language_info": {
   "codemirror_mode": {
    "name": "ipython",
    "version": 3
   },
   "file_extension": ".py",
   "mimetype": "text/x-python",
   "name": "python",
   "nbconvert_exporter": "python",
   "pygments_lexer": "ipython3",
   "version": "3.10.10"
  }
 },
 "nbformat": 4,
 "nbformat_minor": 5
}
