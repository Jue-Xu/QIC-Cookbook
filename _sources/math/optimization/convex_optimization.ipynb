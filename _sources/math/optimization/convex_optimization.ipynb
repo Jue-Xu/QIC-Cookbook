{
 "cells": [
  {
   "attachments": {},
   "cell_type": "markdown",
   "id": "947a934a",
   "metadata": {},
   "source": [
    "# Convex Optimization\n",
    "```{math}\n",
    "\n",
    "\\newcommand\\realnumber{\\mathbb{R}}\n",
    "\\newcommand\\vbx{\\vb{x}}\n",
    "```"
   ]
  },
  {
   "cell_type": "markdown",
   "id": "2e7615a2",
   "metadata": {},
   "source": [
    "> The great watershed in optimization isn't between linearity and non-linearity, but convexity and non-convexity. -R. Tyrrell Rockafellar ()"
   ]
  },
  {
   "cell_type": "markdown",
   "id": "a5be97ec",
   "metadata": {},
   "source": [
    "## Convex Definitions \n",
    "\n",
    "````{prf:definition} Convex\n",
    ":label: convex_combination\n",
    "$$a x_1 + (1-a) x_2$$\n",
    "````"
   ]
  },
  {
   "cell_type": "markdown",
   "id": "737840dd",
   "metadata": {},
   "source": [
    "## Convex functions\n",
    "\n",
    "````{prf:definition} Convex function\n",
    ":label: convex_function\n",
    "a function $f:R^n\\to R$ is `convex` if dom is a convex set and\n",
    "$f(\\theta x+(1-\\theta) y) \\le \\theta f(x) + (1-\\theta) f(y), \\forall x, y\\in D, 0\\le \\theta \\le 1$.\n",
    "(strictly convex)\n",
    "````\n",
    "````{prf:example} Convex functions\n",
    ":class: dropdown\n",
    "convex:\n",
    "- affine\n",
    "- exponential\n",
    "- powers: $x^\\alpha$ on $R_{++}$, for $\\alpha\\ge 1$ or $\\alpha\\le 0$\n",
    "- powers of absolute value: $\\abs{x}^P$ on $R$, for $p\\ge 1$\n",
    "- negative entropy: $x\\log x$ on $R_{++}$\n",
    "\n",
    "concave:\n",
    "- affine \n",
    "- powers: for $0\\le \\alpha \\le 1$\n",
    "- logarithm: $\\log x$ on $R_{++}$\n",
    "````\n",
    "`all norms are convex`\n",
    "\n",
    "<!-- ### Epigraph of a function -->\n",
    "\n",
    "````{prf:definition} Epigraph of a function\n",
    ":label: epigraph_function\n",
    "$\\alpha$-sublevel set of $f:R^n\\to R$:\n",
    "$C_{\\alpha} = \\{x\\in dom f \\mid f(x) \\le \\alpha \\}$\n",
    "sublevel sets of convex functiosn are convex\n",
    "\n",
    "`epigraph` of $f: R^n\\to R$\n",
    "\n",
    "$$epi(f)=\\{(x,t)\\in R^{n+1} | x\\in D, f(x)\\le t\\}$$\n",
    "````\n",
    "`if all sublevel sets of a function are convex, is the function necessarily convex?` (butterfly like function)\n",
    "\n",
    "````{prf:theorem} Epigraph convex\n",
    ":label: epigraph_convex\n",
    "$f$ is convex iff $epi(f)$ is a convex set.\n",
    "````\n",
    "````{prf:proof} \n",
    "two directions\n",
    "````\n"
   ]
  },
  {
   "cell_type": "markdown",
   "id": "2d95c024",
   "metadata": {},
   "source": [
    "````{prf:definition} Differentiable functions\n",
    ":label: differentiable_function\n",
    "$f$ is `differentiable` if $D$ is `open` and the gradient $\\nabla f(x)$ exists at each $x\\in D$\n",
    "````\n",
    "\n",
    "- `f (defined on an open domain) is convex, then f is continuous`\n",
    "- f is convex, then f is differentiable. (False)\n",
    "\n",
    "````{prf:definition} 1st-order condition\n",
    ":label: 1st_order_condition\n",
    "differentiable $f$ with convex domain is convex iff\n",
    "\n",
    "$$ f(y) \\ge f(x) + \\nabla f(x)^T (y-x) \\; \\forall x,y \\in D $$\n",
    "\n",
    "first-order approximation of f is always underestimator. (first-order Taylor)\n",
    "````\n",
    "````{prf:definition} second-order condition\n",
    "$f$ is `twice differentiable` if $D$ is `open` and the `Hessian` $\\nabla^2 f(x)$ exists at each $x\\in D$\n",
    "````\n",
    "````{prf:theorem} \n",
    "- for twice differentiable f with convex domain,\n",
    "f is convex iff $\\nabla^2 f(x) \\succeq 0, \\forall x \\in D$\n",
    "- if $\\nabla^2 f(x) \\succ 0 \\forall x\\in D$, then $f$ is strictly convex.\n",
    "(converse is not true, $f(x) = x^4$)\n",
    "````\n",
    "````{prf:example} Quadratic function\n",
    "$f(x) = x^2$, $f(x) = (1/2)x^T Px + q^T x +r $ with $P\\in S^n$,\n",
    "then $\\nabla (x) = Px+q$, $\\nabla^2 f(x) =P$. \n",
    "convex iff $P \\succeq 0$\n",
    "````"
   ]
  },
  {
   "cell_type": "markdown",
   "id": "4d144653",
   "metadata": {},
   "source": [
    "### Methods for establishing convexity of a set\n",
    "\n",
    "1. apply definition\n",
    "2. show that $C$ obtained from the operations:\n",
    "- intersection\n",
    "- affine\n",
    "- Perspective function & lienar-fractional function\n",
    "\n",
    "#### Intersection\n",
    "If $S_i$ is (affine, convex, convex cone), for $i\\in A$, then $\\cap_{i\\in A} S_i$ is (affine, convex, convex cone)\n",
    "\n",
    "intersection need not be `finite`: e.g., a convex set is intersection of `infinite halfspaces`. (Union not the case)\n",
    "\n",
    "#### Affine function\n",
    "a general form of linear function (constant term)\n",
    "\n",
    "````{prf:definition} Affine function\n",
    ":label: affine_function\n",
    "`Affine function`\n",
    "$f(x)=Ax + b, \\; A\\in R^{m\\times n}, b\\in R^{m}$\n",
    "````\n",
    "If $S$ is convex, $f(S)$ is also convex;\n",
    "If $C$ is convex, $f^{-1}(C)$ is also convex;\n",
    "\n",
    "````{prf:example}  Affine\n",
    "    The epplisoid {prf:ref} is the image of the unit ball under the affine mapping.\n",
    "    It is also the inverse image of the unit ball under the affine mapping\n",
    "````\n",
    "\n",
    "#### Perspective function & lienar-fractional function\n",
    "`perspective function` $P: R^{n+1} \\to R^n$:\n",
    "$P(x,t) = x/t,\\; dom(P)={(x,t)|t>0}$\n",
    "\n",
    "`linear-fractional function` $f: R^n\\to R^m$\n",
    "$f(x) = \\frac{Ax+b}{c^T x+d}, \\; dom(f)={x|c^T x+d>0}$\n",
    "\n",
    "`perspective functions preserve lines s.t. preserve convexity`\n",
    "$P(\\theta x +(1-\\theta)y)=\\dots=\\mu P(x) + (1-\\mu)P(y)$\n",
    "\n",
    "````{prf:theorem}  Separating hyperplane theorem\n",
    ":label: separating_hyperplane_theorem\n",
    "\n",
    "If $C$ and $D$ are two disjoint (convex?) sets, there exists\n",
    "````\n",
    "\n",
    "````{prf:theorem}  Supporting hyperplane theorem\n",
    ":label: supporting_hyperplane_theorem\n",
    ":class: dropdown\n",
    "\n",
    "`supporint hyperplane` to set $C$ at boundary point $x_0$:\n",
    "$\\{x| a^T x = a^T x_0\\}$ where $a\\neq 0$ and $a^x \\le a^T x_0, \\forall x\\in C$.\n",
    "If $C$ is convex, then there exists a supporitn hyperplane at every boundary point of $C$\n",
    "````"
   ]
  },
  {
   "cell_type": "markdown",
   "id": "b86898c7",
   "metadata": {},
   "source": [
    "## Linear programming\n",
    "\n"
   ]
  },
  {
   "attachments": {},
   "cell_type": "markdown",
   "id": "bb8af260",
   "metadata": {},
   "source": [
    "### Min-Max theorem"
   ]
  },
  {
   "cell_type": "markdown",
   "id": "027e7892",
   "metadata": {},
   "source": [
    "## Integer Programming"
   ]
  },
  {
   "cell_type": "code",
   "execution_count": null,
   "id": "b5d3ea3e",
   "metadata": {},
   "outputs": [],
   "source": []
  }
 ],
 "metadata": {
  "kernelspec": {
   "display_name": "Python 3.8.8 ('base')",
   "language": "python",
   "name": "python3"
  },
  "language_info": {
   "codemirror_mode": {
    "name": "ipython",
    "version": 3
   },
   "file_extension": ".py",
   "mimetype": "text/x-python",
   "name": "python",
   "nbconvert_exporter": "python",
   "pygments_lexer": "ipython3",
   "version": "3.8.8"
  },
  "vscode": {
   "interpreter": {
    "hash": "4e8ef2f9fcac0817bca9a7ca376f64f20b4df5ea3bf7af756a50bda7d3557ea6"
   }
  }
 },
 "nbformat": 4,
 "nbformat_minor": 5
}
