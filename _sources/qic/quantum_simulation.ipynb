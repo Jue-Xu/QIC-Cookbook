{
 "cells": [
  {
   "attachments": {},
   "cell_type": "markdown",
   "id": "9a4f165c",
   "metadata": {},
   "source": [
    "# Quantum Simulation"
   ]
  },
  {
   "attachments": {},
   "cell_type": "markdown",
   "id": "4561176b",
   "metadata": {},
   "source": [
    "````{prf:definition}\n",
    ":label: quantum_simulation\n",
    "\n",
    "````\n",
    "<!-- https://sphinx-proof.readthedocs.io/en/latest/syntax.html#definitions -->\n",
    "<!-- https://jupyterbook.org/en/stable/content/proof.html -->"
   ]
  },
  {
   "attachments": {},
   "cell_type": "markdown",
   "id": "5bacc214",
   "metadata": {},
   "source": [
    "{prf:ref}`max-3k-lin2`"
   ]
  },
  {
   "attachments": {},
   "cell_type": "markdown",
   "id": "feff86f3",
   "metadata": {},
   "source": [
    "````{prf:example}\n",
    ":label: quantum_simulation_example\n",
    "\n",
    "This is an example\n",
    "````"
   ]
  },
  {
   "attachments": {},
   "cell_type": "markdown",
   "id": "181438bc",
   "metadata": {},
   "source": [
    "```{note}\n",
    "Here is a note!\n",
    "```"
   ]
  },
  {
   "attachments": {},
   "cell_type": "markdown",
   "id": "437a4434",
   "metadata": {},
   "source": [
    "```{admonition} Here's your admonition\n",
    "Here's the admonition content\n",
    "```"
   ]
  },
  {
   "attachments": {},
   "cell_type": "markdown",
   "id": "8892c515",
   "metadata": {},
   "source": [
    "Term 1\n",
    ": Definition\n",
    "\n",
    "Term 2\n",
    ": Definition"
   ]
  },
  {
   "attachments": {},
   "cell_type": "markdown",
   "id": "4489b818",
   "metadata": {},
   "source": [
    "> Here is a cool quotation.\n",
    ">\n",
    "> From me, Jo the Jovyan"
   ]
  },
  {
   "attachments": {},
   "cell_type": "markdown",
   "id": "8abac791",
   "metadata": {},
   "source": [
    "```{table} My table title\n",
    ":name: quantum_simulation_technique_compare\n",
    "\n",
    "| header 1 | header 2 |\n",
    "|---|---|\n",
    "| 3 | 4 |\n",
    "```"
   ]
  },
  {
   "attachments": {},
   "cell_type": "markdown",
   "id": "10d0ace5",
   "metadata": {},
   "source": [
    "Here is {ref}`quantum_simulation_technique_compare`"
   ]
  },
  {
   "attachments": {},
   "cell_type": "markdown",
   "id": "071f14d8",
   "metadata": {},
   "source": [
    "## Trotter-Suzuki"
   ]
  },
  {
   "attachments": {},
   "cell_type": "markdown",
   "id": "fd11466a",
   "metadata": {},
   "source": [
    "## Variants\n",
    "- Higher order \n",
    "- empirical performance (Yuan Su) [](section:empirical_trotter_suzuki)\n",
    "- randomized (Childs)\n",
    "- qdrift (Campbell)\n",
    "- adaptive time step ()\n",
    "\n",
    "### Higher order\n",
    "\n",
    "(section:empirical_trotter_suzuki)\n",
    "### Empirical performance for practical systems\n",
    "\n",
    "### Reinforcement learning for compiling (ordering in randomized)\n",
    "- imaginary time evolution (ITE)\n",
    "- digital quantum simulation (DQS) \n",
    "\n",
    "### "
   ]
  },
  {
   "attachments": {},
   "cell_type": "markdown",
   "id": "dcfba17d",
   "metadata": {},
   "source": [
    "[](chapter:grover)"
   ]
  },
  {
   "attachments": {},
   "cell_type": "markdown",
   "id": "0c105706",
   "metadata": {
    "vscode": {
     "languageId": "plaintext"
    }
   },
   "source": [
    "```{math}\n",
    ":label: schrodinger_equation\n",
    "\\hat{H} |\\psi\\rangle = \n",
    "```\n",
    "\n",
    "See Equation [eq](schrodinger_equation)"
   ]
  },
  {
   "cell_type": "markdown",
   "id": "537c3def",
   "metadata": {},
   "source": []
  },
  {
   "attachments": {},
   "cell_type": "markdown",
   "id": "6944c8e9",
   "metadata": {},
   "source": [
    "## Linear Combination of Unitaries (LCU)"
   ]
  },
  {
   "attachments": {},
   "cell_type": "markdown",
   "id": "6efbff4c",
   "metadata": {},
   "source": [
    "## Quantum Singular Value Transformation (QSVT)\n",
    "### dequantization (low rank?)"
   ]
  },
  {
   "attachments": {},
   "cell_type": "markdown",
   "id": "cd34625b",
   "metadata": {},
   "source": [
    "## Qubitization"
   ]
  },
  {
   "cell_type": "markdown",
   "id": "ec4370a1",
   "metadata": {},
   "source": [
    "## Summary and Comparison"
   ]
  },
  {
   "cell_type": "markdown",
   "id": "04e427ad",
   "metadata": {},
   "source": []
  }
 ],
 "metadata": {
  "kernelspec": {
   "display_name": "Python 3 (ipykernel)",
   "language": "python",
   "name": "python3"
  },
  "language_info": {
   "codemirror_mode": {
    "name": "ipython",
    "version": 3
   },
   "file_extension": ".py",
   "mimetype": "text/x-python",
   "name": "python",
   "nbconvert_exporter": "python",
   "pygments_lexer": "ipython3",
   "version": "3.8.8"
  }
 },
 "nbformat": 4,
 "nbformat_minor": 5
}
