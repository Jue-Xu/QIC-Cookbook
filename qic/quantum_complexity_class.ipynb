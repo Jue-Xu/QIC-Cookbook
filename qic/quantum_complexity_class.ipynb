{
 "cells": [
  {
   "attachments": {},
   "cell_type": "markdown",
   "id": "9a4f165c",
   "metadata": {},
   "source": [
    "# Quantum Complexity Class"
   ]
  },
  {
   "attachments": {},
   "cell_type": "markdown",
   "id": "feff86f3",
   "metadata": {},
   "source": [
    "````{prf:definition} BQP\n",
    ":label: bqp\n",
    "\n",
    "#BQP\n",
    "````"
   ]
  },
  {
   "attachments": {},
   "cell_type": "markdown",
   "id": "f2c0f9a9",
   "metadata": {},
   "source": [
    "````{prf:theorem} \n",
    ":label: sharp_bqp_complete\n",
    "\n",
    "computing the density of states of a local n-spin Hamiltonian $$H = \\sum i H_i$$ with few-body terms $H_i$, $|| H_i ||  \\le 1$, up to accuracy 1/poly(n), is a problem which is complete for #BQP\n",
    "````"
   ]
  },
  {
   "attachments": {},
   "cell_type": "markdown",
   "id": "04e427ad",
   "metadata": {},
   "source": []
  }
 ],
 "metadata": {
  "kernelspec": {
   "display_name": "Python 3 (ipykernel)",
   "language": "python",
   "name": "python3"
  },
  "language_info": {
   "codemirror_mode": {
    "name": "ipython",
    "version": 3
   },
   "file_extension": ".py",
   "mimetype": "text/x-python",
   "name": "python",
   "nbconvert_exporter": "python",
   "pygments_lexer": "ipython3",
   "version": "3.8.8"
  }
 },
 "nbformat": 4,
 "nbformat_minor": 5
}
