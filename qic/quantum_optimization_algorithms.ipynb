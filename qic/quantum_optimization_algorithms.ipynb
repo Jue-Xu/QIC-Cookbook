{
 "cells": [
  {
   "attachments": {},
   "cell_type": "markdown",
   "id": "9a4f165c",
   "metadata": {},
   "source": [
    "# Quantum Optimization Algorithms"
   ]
  },
  {
   "attachments": {},
   "cell_type": "markdown",
   "id": "4489b818",
   "metadata": {},
   "source": [
    "> Here is a cool quotation."
   ]
  },
  {
   "cell_type": "markdown",
   "id": "da7ac21f",
   "metadata": {},
   "source": [
    "## Combinatorial optimization problems"
   ]
  },
  {
   "cell_type": "markdown",
   "id": "aaa6ac5d",
   "metadata": {},
   "source": [
    "## Quantum Annealing Algorithm\n",
    "\n",
    "[Quantum Simulations of Classical Annealing Processes. PhysRevLett.101.130504](https://journals.aps.org/prl/abstract/10.1103/PhysRevLett.101.130504)\n",
    "\n",
    "The annealing process can be simulated with a variety of techniques. Here, we focus on discrete Markov chain Monte Carlo (MCMC) simulations as used, for example, in statistical physics [3].\n",
    "Although in general the QSA does not yield a polynomial-resource algorithm, it reduces required resources by an asymptotic exponential factor for the ubiquitous hard cases, where the gap becomes exponentially small in the problem size."
   ]
  },
  {
   "cell_type": "markdown",
   "id": "1e098981",
   "metadata": {},
   "source": [
    "## Quantum Adaibatic Algorithm\n",
    "[Adiabatic quantum computation RevModPhys.90.015002](https://journals.aps.org/rmp/abstract/10.1103/RevModPhys.90.015002)"
   ]
  },
  {
   "cell_type": "markdown",
   "id": "b8f61cc5",
   "metadata": {},
   "source": [
    "## Quantum Approximate Optimization Algorithm"
   ]
  },
  {
   "cell_type": "markdown",
   "id": "56b2f4a0",
   "metadata": {},
   "source": [
    "## MCMC - Quantum Metropolis Algorithm\n",
    "[A Quantum-Quantum Metropolis Algorithm  PNAS.1111758109](https://www.pnas.org/doi/full/10.1073/pnas.1111758109)\n",
    "\n",
    "The restriction encountered by the previous version of the quantum Metropolis algorithm is mostly due to the no-cloning theorem, where the required information, such as the associated eigenvalue, of an eigenstate cannot be retrieved after the proposed move in the Metropolis step. We relax this restriction by adopting a dual representation where the set of basis states consists of pairs of eigenstates related by the time-reversal operation.\n",
    "![](2023-12-16-19-03-17.png)\n",
    "![](2023-12-16-19-04-57.png)\n",
    "\n",
    "### Quantum Markov-chain\n"
   ]
  },
  {
   "cell_type": "markdown",
   "id": "1c42a5e9",
   "metadata": {},
   "source": [
    "## Quantum SDP"
   ]
  },
  {
   "attachments": {},
   "cell_type": "markdown",
   "id": "5aa34097",
   "metadata": {},
   "source": [
    "{cite}`kitaev2002classical`"
   ]
  },
  {
   "attachments": {},
   "cell_type": "markdown",
   "id": "8abac791",
   "metadata": {},
   "source": [
    "```{table} My table title\n",
    ":name: quantum_algorithms\n",
    "\n",
    "| header 1 | header 2 |\n",
    "|---|---|\n",
    "| 3 | 4 |\n",
    "```"
   ]
  }
 ],
 "metadata": {
  "kernelspec": {
   "display_name": "Python 3 (ipykernel)",
   "language": "python",
   "name": "python3"
  },
  "language_info": {
   "codemirror_mode": {
    "name": "ipython",
    "version": 3
   },
   "file_extension": ".py",
   "mimetype": "text/x-python",
   "name": "python",
   "nbconvert_exporter": "python",
   "pygments_lexer": "ipython3",
   "version": "3.8.8"
  }
 },
 "nbformat": 4,
 "nbformat_minor": 5
}
