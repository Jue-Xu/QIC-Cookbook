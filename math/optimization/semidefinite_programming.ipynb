{
 "cells": [
  {
   "attachments": {},
   "cell_type": "markdown",
   "id": "947a934a",
   "metadata": {},
   "source": [
    "# Semi-definite Programming (SDP)"
   ]
  },
  {
   "cell_type": "markdown",
   "id": "c539b2e6",
   "metadata": {},
   "source": [
    "## Semi-definite\n",
    "\n",
    "````{prf:definition} SDP\n",
    ":label: sdp\n",
    "\n",
    "SDP\n",
    "$\n",
    "    \\forall x, xAx^T \\ge 0\n",
    "$\n",
    "````"
   ]
  },
  {
   "cell_type": "markdown",
   "id": "858f87e4",
   "metadata": {},
   "source": [
    "## Algorithms"
   ]
  }
 ],
 "metadata": {
  "kernelspec": {
   "display_name": "Python 3.8.8 ('base')",
   "language": "python",
   "name": "python3"
  },
  "language_info": {
   "codemirror_mode": {
    "name": "ipython",
    "version": 3
   },
   "file_extension": ".py",
   "mimetype": "text/x-python",
   "name": "python",
   "nbconvert_exporter": "python",
   "pygments_lexer": "ipython3",
   "version": "3.8.8"
  },
  "vscode": {
   "interpreter": {
    "hash": "4e8ef2f9fcac0817bca9a7ca376f64f20b4df5ea3bf7af756a50bda7d3557ea6"
   }
  }
 },
 "nbformat": 4,
 "nbformat_minor": 5
}
